{
 "cells": [
  {
   "cell_type": "code",
   "execution_count": 3,
   "metadata": {},
   "outputs": [
    {
     "name": "stdout",
     "output_type": "stream",
     "text": [
      "There are duplicates in column_name\n"
     ]
    }
   ],
   "source": [
    "import pandas as pd\n",
    "\n",
    "df = pd.read_csv('HYJ/new_reicu/sub/condi_trans.csv')\n",
    "if df['SUBJECT_ID'].duplicated().any():\n",
    "    print('There are duplicates in column_name')\n",
    "else:\n",
    "    print('There are no duplicates in column_name')"
   ]
  },
  {
   "cell_type": "code",
   "execution_count": 4,
   "metadata": {},
   "outputs": [
    {
     "name": "stdout",
     "output_type": "stream",
     "text": [
      "There are no duplicates in column_name\n"
     ]
    }
   ],
   "source": [
    "df = pd.read_csv('HYJ/new_reicu/sub/condi_subj_uniq.csv')\n",
    "if df['SUBJECT_ID'].duplicated().any():\n",
    "    print('There are duplicates in column_name')\n",
    "else:\n",
    "    print('There are no duplicates in column_name')"
   ]
  },
  {
   "cell_type": "code",
   "execution_count": 4,
   "metadata": {},
   "outputs": [
    {
     "name": "stdout",
     "output_type": "stream",
     "text": [
      "6944\n",
      "Output rows:  0        False\n",
      "1        False\n",
      "2        False\n",
      "3        False\n",
      "4         True\n",
      "         ...  \n",
      "14184    False\n",
      "14185     True\n",
      "14186     True\n",
      "14187     True\n",
      "14188     True\n",
      "Name: SUBJECT_ID, Length: 14189, dtype: bool\n"
     ]
    }
   ],
   "source": [
    "import pandas as pd\n",
    "# %%\n",
    "file1 = pd.read_csv(\n",
    "    \"/home/rongqin/codes/explainable-mr-vital-signs/HYJ/new_reicu/wavematch_sub/bothmatch_sub.csv\", header=None, names=[\"id\"])\n",
    "\n",
    "file2 = pd.read_csv(\"/home/rongqin/codes/explainable-mr-vital-signs/HYJ/new_reicu/sub/condi_trans.csv\")\n",
    "# %%\n",
    "\n",
    "# 将两个 DataFrame 根据 SUBJECT_ID 列进行匹配，并提取满足条件的行\n",
    "print(len(file1[\"id\"]))\n",
    "result = file2[\"SUBJECT_ID\"].isin(file1[\"id\"])\n",
    "\n",
    "# 将结果保存到新的 CSV 文件中\n",
    "result.to_csv(\"ww.csv\", index=False)\n",
    "\n",
    "# 打印输出结果的行数\n",
    "a = 0\n",
    "for i in result:\n",
    "    if i == True:\n",
    "        a+=1\n",
    "print(a)"
   ]
  }
 ],
 "metadata": {
  "kernelspec": {
   "display_name": "Python 3",
   "language": "python",
   "name": "python3"
  },
  "language_info": {
   "codemirror_mode": {
    "name": "ipython",
    "version": 3
   },
   "file_extension": ".py",
   "mimetype": "text/x-python",
   "name": "python",
   "nbconvert_exporter": "python",
   "pygments_lexer": "ipython3",
   "version": "3.11.0"
  },
  "orig_nbformat": 4
 },
 "nbformat": 4,
 "nbformat_minor": 2
}
